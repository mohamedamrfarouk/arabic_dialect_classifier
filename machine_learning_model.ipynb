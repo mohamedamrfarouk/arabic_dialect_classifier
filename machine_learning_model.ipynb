{
  "nbformat": 4,
  "nbformat_minor": 0,
  "metadata": {
    "colab": {
      "name": "machine_learning_model.ipynb",
      "provenance": [],
      "collapsed_sections": [],
      "include_colab_link": true
    },
    "kernelspec": {
      "name": "python3",
      "display_name": "Python 3"
    },
    "language_info": {
      "name": "python"
    },
    "accelerator": "GPU"
  },
  "cells": [
    {
      "cell_type": "markdown",
      "metadata": {
        "id": "view-in-github",
        "colab_type": "text"
      },
      "source": [
        "<a href=\"https://colab.research.google.com/github/mohamedamrfarouk/arabic_dialect_classifier/blob/main/machine_learning_model.ipynb\" target=\"_parent\"><img src=\"https://colab.research.google.com/assets/colab-badge.svg\" alt=\"Open In Colab\"/></a>"
      ]
    },
    {
      "cell_type": "markdown",
      "source": [
        "# import the libraries and packedges"
      ],
      "metadata": {
        "id": "F2o_Z9qTTT_v"
      }
    },
    {
      "cell_type": "code",
      "execution_count": null,
      "metadata": {
        "id": "89RTADDa92HL"
      },
      "outputs": [],
      "source": [
        "import requests\n",
        "import numpy as np\n",
        "import pandas as pd\n",
        "import json\n",
        "import re\n",
        "import json\n",
        "from tensorflow.keras.preprocessing.text import Tokenizer\n",
        "from tensorflow.keras.preprocessing.sequence import pad_sequences\n",
        "import tensorflow as tf\n",
        "from sklearn.preprocessing import LabelEncoder\n",
        "from sklearn.model_selection import train_test_split\n",
        "import matplotlib.pyplot as plt\n",
        "import string\n",
        "from time import *"
      ]
    },
    {
      "cell_type": "markdown",
      "source": [
        "# load the clean data"
      ],
      "metadata": {
        "id": "F21-c2KVTZ__"
      }
    },
    {
      "cell_type": "code",
      "source": [
        "df = pd.read_csv('/content/clean_data.csv',lineterminator='\\n')"
      ],
      "metadata": {
        "id": "u0biOcuu_Cug"
      },
      "execution_count": null,
      "outputs": []
    },
    {
      "cell_type": "markdown",
      "source": [
        "# preprocess the data to be used in training by the machine learning models\n"
      ],
      "metadata": {
        "id": "NA66yN9hTdXr"
      }
    },
    {
      "cell_type": "code",
      "execution_count": null,
      "metadata": {
        "id": "yktxfebwqyFZ"
      },
      "outputs": [],
      "source": [
        "vocab_size = 100000\n",
        "embedding_dim = 64\n",
        "max_length = 50\n",
        "trunc_type='post'\n",
        "padding_type='post'\n",
        "oov_tok = \"<OOV>\""
      ]
    },
    {
      "cell_type": "code",
      "execution_count": null,
      "metadata": {
        "id": "hTWABP0GSwDK"
      },
      "outputs": [],
      "source": [
        "X = df.text\n",
        "y = df.dialect\n",
        "le = LabelEncoder()\n",
        "le.fit(y)\n",
        "y = le.transform(y)"
      ]
    },
    {
      "cell_type": "code",
      "execution_count": null,
      "metadata": {
        "id": "NpFymx9uteMD"
      },
      "outputs": [],
      "source": [
        "# yy = np.zeros((len(y), len(le.classes_)))\n",
        "# for i in range(len(y)):\n",
        "#   yy[i][y[i]] = 1"
      ]
    },
    {
      "cell_type": "code",
      "execution_count": null,
      "metadata": {
        "id": "IJ6GN7JvxED4"
      },
      "outputs": [],
      "source": [
        "# yy[0] , y[0]"
      ]
    },
    {
      "cell_type": "code",
      "execution_count": null,
      "metadata": {
        "id": "N5AhWrb1tdq1"
      },
      "outputs": [],
      "source": [
        "X_train, X_test, y_train, y_test = train_test_split(X, y, test_size=0.1, random_state=40)"
      ]
    },
    {
      "cell_type": "code",
      "execution_count": null,
      "metadata": {
        "id": "ngAV7mb9r7kd"
      },
      "outputs": [],
      "source": [
        "tokenizer = Tokenizer(num_words=vocab_size, oov_token=oov_tok)\n",
        "tokenizer.fit_on_texts(X)\n",
        "\n",
        "word_index = tokenizer.word_index\n",
        "\n",
        "training_sequences = tokenizer.texts_to_sequences(X_train)\n",
        "training_padded = pad_sequences(training_sequences, maxlen=max_length, padding=padding_type, truncating=trunc_type)\n",
        "\n",
        "testing_sequences = tokenizer.texts_to_sequences(X_test)\n",
        "testing_padded = pad_sequences(testing_sequences, maxlen=max_length, padding=padding_type, truncating=trunc_type)"
      ]
    },
    {
      "cell_type": "code",
      "execution_count": null,
      "metadata": {
        "id": "8TY1sImKtYLH"
      },
      "outputs": [],
      "source": [
        "training_padded = np.array(training_padded)\n",
        "training_labels = np.array(y_train)\n",
        "testing_padded = np.array(testing_padded)\n",
        "testing_labels = np.array(y_test)"
      ]
    },
    {
      "cell_type": "code",
      "source": [
        "from sklearn.metrics import recall_score, accuracy_score, precision_score, fbeta_score, make_scorer\n",
        "from sklearn.linear_model import LogisticRegression\n",
        "from sklearn.tree import DecisionTreeClassifier\n",
        "from sklearn.naive_bayes import GaussianNB"
      ],
      "metadata": {
        "id": "YOgmhAqiu059"
      },
      "execution_count": null,
      "outputs": []
    },
    {
      "cell_type": "markdown",
      "source": [
        "# train 3 different models and monitor some data like:\n",
        "1. time taken by the model to train on the data\n",
        "2. time taken to predict the testing data \n",
        "3. training accuracy\n",
        "4. testing accuracy **(the most important)**"
      ],
      "metadata": {
        "id": "KXvReJnbTnaE"
      }
    },
    {
      "cell_type": "code",
      "source": [
        "def train_predict(learner, X_train, y_train, X_test, y_test): \n",
        "    \n",
        "    results = {}\n",
        "    \n",
        "    start = time() # Get start time\n",
        "    learner = learner.fit(X_train , y_train)\n",
        "    end = time() # Get end time\n",
        "    \n",
        "    results['train_time'] = end - start\n",
        "        \n",
        "    start = time() # Get start time\n",
        "    predictions_test = learner.predict(X_test)\n",
        "    end = time() # Get end time\n",
        "    \n",
        "    results['pred_time'] = end - start\n",
        "            \n",
        "    results['acc_train'] = accuracy_score(y_train, learner.predict(X_train))\n",
        "        \n",
        "    results['acc_test'] = accuracy_score(y_test, predictions_test)\n",
        "    \n",
        "       \n",
        "    # Success\n",
        "    print(\"{} trained on the data.\".format(learner.__class__.__name__))\n",
        "        \n",
        "    # Return the results\n",
        "    return results"
      ],
      "metadata": {
        "id": "nYOjcobxqt6I"
      },
      "execution_count": null,
      "outputs": []
    },
    {
      "cell_type": "code",
      "source": [
        "# TODO: Import the three supervised learning models from sklearn\n",
        "from sklearn.linear_model import LogisticRegression\n",
        "from sklearn.tree import DecisionTreeClassifier\n",
        "from sklearn.naive_bayes import GaussianNB\n",
        "\n",
        "\n",
        "# TODO: Initialize the three models\n",
        "clf_A = LogisticRegression(random_state = 42)\n",
        "clf_B = DecisionTreeClassifier(random_state = 42)\n",
        "clf_C = GaussianNB()\n",
        "\n",
        "results = {}\n",
        "for clf in [clf_A, clf_B, clf_C]:\n",
        "    clf_name = clf.__class__.__name__\n",
        "    results[clf_name] = {}\n",
        "    results[clf_name] = train_predict(clf, training_padded, training_labels, testing_padded, testing_labels)\n",
        "    print(clf_name + \" done\")"
      ],
      "metadata": {
        "colab": {
          "base_uri": "https://localhost:8080/"
        },
        "id": "rvMmDvFPq2e0",
        "outputId": "13a62360-7ef0-4f41-c2fe-31a3766b3a71"
      },
      "execution_count": null,
      "outputs": [
        {
          "output_type": "stream",
          "name": "stderr",
          "text": [
            "/usr/local/lib/python3.7/dist-packages/sklearn/linear_model/_logistic.py:818: ConvergenceWarning: lbfgs failed to converge (status=1):\n",
            "STOP: TOTAL NO. of ITERATIONS REACHED LIMIT.\n",
            "\n",
            "Increase the number of iterations (max_iter) or scale the data as shown in:\n",
            "    https://scikit-learn.org/stable/modules/preprocessing.html\n",
            "Please also refer to the documentation for alternative solver options:\n",
            "    https://scikit-learn.org/stable/modules/linear_model.html#logistic-regression\n",
            "  extra_warning_msg=_LOGISTIC_SOLVER_CONVERGENCE_MSG,\n"
          ]
        },
        {
          "output_type": "stream",
          "name": "stdout",
          "text": [
            "LogisticRegression trained on the data.\n",
            "LogisticRegression done\n",
            "DecisionTreeClassifier trained on the data.\n",
            "DecisionTreeClassifier done\n",
            "GaussianNB trained on the data.\n",
            "GaussianNB done\n"
          ]
        }
      ]
    },
    {
      "cell_type": "code",
      "source": [
        "results['LogisticRegression']"
      ],
      "metadata": {
        "colab": {
          "base_uri": "https://localhost:8080/"
        },
        "id": "WH7F_oElCCt1",
        "outputId": "d3112e27-c7a5-46b7-9e8d-8a24c57010d4"
      },
      "execution_count": null,
      "outputs": [
        {
          "output_type": "execute_result",
          "data": {
            "text/plain": [
              "{'acc_test': 0.12328677433435181,\n",
              " 'acc_train': 0.12380903881642284,\n",
              " 'pred_time': 0.025831937789916992,\n",
              " 'train_time': 89.49426102638245}"
            ]
          },
          "metadata": {},
          "execution_count": 69
        }
      ]
    },
    {
      "cell_type": "code",
      "source": [
        "names = []\n",
        "models_acc_test_results = []\n",
        "models_acc_train_results = []\n",
        "models_train_time_results = []\n",
        "models_pred_time_results = []\n",
        "for clf in [clf_A, clf_B, clf_C]:\n",
        "    clf_name = clf.__class__.__name__\n",
        "    names.append(clf_name)\n",
        "    models_acc_test_results.append( results[clf_name]['acc_test'])\n",
        "    models_acc_train_results.append( results[clf_name]['acc_train'])\n",
        "    models_train_time_results.append( results[clf_name]['train_time'])\n",
        "    models_pred_time_results.append( results[clf_name]['pred_time'])"
      ],
      "metadata": {
        "id": "RVKcFNnACrp5"
      },
      "execution_count": null,
      "outputs": []
    },
    {
      "cell_type": "markdown",
      "source": [
        "# graph the values to see the difference "
      ],
      "metadata": {
        "id": "rCdaCoSFUNdF"
      }
    },
    {
      "cell_type": "code",
      "source": [
        "import matplotlib.pyplot as plt"
      ],
      "metadata": {
        "id": "5MerburvEdIy"
      },
      "execution_count": null,
      "outputs": []
    },
    {
      "cell_type": "code",
      "source": [
        "fig, axs = plt.subplots(2, 2 , figsize=(15,8))\n",
        "axs[0, 0].bar(names , models_acc_test_results);\n",
        "axs[0, 0].set_title(\"testing accuracy\");\n",
        "axs[1, 0].bar(names , models_acc_train_results);\n",
        "axs[1, 0].set_title(\"training accuracy\")\n",
        "axs[0, 1].bar(names , models_train_time_results);\n",
        "axs[0, 1].set_title(\"training time\");\n",
        "axs[1, 1].bar(names , models_pred_time_results);\n",
        "axs[1, 1].set_title(\"predicting time\");\n"
      ],
      "metadata": {
        "colab": {
          "base_uri": "https://localhost:8080/",
          "height": 498
        },
        "id": "L3ysNwntFAIb",
        "outputId": "b6b03516-dc8b-43eb-ca49-2aa8917524d9"
      },
      "execution_count": null,
      "outputs": [
        {
          "output_type": "display_data",
          "data": {
            "text/plain": [
              "<Figure size 1080x576 with 4 Axes>"
            ],
            "image/png": "[encoded data removed]"
          },
          "metadata": {
            "needs_background": "light"
          }
        }
      ]
    },
    {
      "cell_type": "markdown",
      "source": [
        "# save the best model for any future use"
      ],
      "metadata": {
        "id": "JeM58RRqUS5C"
      }
    },
    {
      "cell_type": "code",
      "source": [
        "import pickle\n",
        "\n",
        "filename = 'machine_learning_model.sav'\n",
        "pickle.dump(clf_A, open(filename, 'wb'))"
      ],
      "metadata": {
        "id": "PgqJyoyUGcIG"
      },
      "execution_count": null,
      "outputs": []
    },
    {
      "cell_type": "code",
      "source": [
        "loaded_model = pickle.load(open(filename, 'rb'))\n",
        "result = loaded_model.score(testing_padded, testing_labels)\n",
        "print(result)"
      ],
      "metadata": {
        "colab": {
          "base_uri": "https://localhost:8080/"
        },
        "id": "S7dASLeeJNXp",
        "outputId": "8cc1adb4-7c69-46cb-a108-294f784dc217"
      },
      "execution_count": null,
      "outputs": [
        {
          "output_type": "stream",
          "name": "stdout",
          "text": [
            "0.12328677433435181\n"
          ]
        }
      ]
    }
  ]
}