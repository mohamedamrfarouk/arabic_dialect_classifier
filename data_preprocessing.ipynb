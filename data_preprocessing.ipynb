{
  "cells": [
    {
      "cell_type": "markdown",
      "metadata": {
        "id": "view-in-github",
        "colab_type": "text"
      },
      "source": [
        "<a href=\"https://colab.research.google.com/github/mohamedamrfarouk/arabic_dialect_classifier/blob/main/data_preprocessing.ipynb\" target=\"_parent\"><img src=\"https://colab.research.google.com/assets/colab-badge.svg\" alt=\"Open In Colab\"/></a>"
      ]
    },
    {
      "cell_type": "markdown",
      "source": [
        "# import tha libraries"
      ],
      "metadata": {
        "id": "xZxhqr6AIQK5"
      }
    },
    {
      "cell_type": "code",
      "execution_count": 1,
      "metadata": {
        "id": "haCBcRkKSEWw"
      },
      "outputs": [],
      "source": [
        "import numpy as np\n",
        "import pandas as pd\n",
        "import json\n",
        "import re\n",
        "import json\n",
        "from tensorflow.keras.preprocessing.text import Tokenizer\n",
        "from tensorflow.keras.preprocessing.sequence import pad_sequences\n",
        "import tensorflow as tf\n",
        "from sklearn.preprocessing import LabelEncoder\n",
        "from sklearn.model_selection import train_test_split\n",
        "import matplotlib.pyplot as plt\n",
        "import string\n",
        "import pickle"
      ]
    },
    {
      "cell_type": "code",
      "source": [
        "vocab_size = 100000\n",
        "embedding_dim = 64\n",
        "max_length = 50\n",
        "trunc_type='post'\n",
        "padding_type='post'\n",
        "oov_tok = \"<OOV>\""
      ],
      "metadata": {
        "id": "4slExNeXKngl"
      },
      "execution_count": 2,
      "outputs": []
    },
    {
      "cell_type": "markdown",
      "metadata": {
        "id": "HGHRrTFSXyVr"
      },
      "source": [
        "[dataset with the text](https://drive.google.com/file/d/12Lofn3NLtNCe6SeAfUer1YYBPs6TlZMl/view?usp=sharing)"
      ]
    },
    {
      "cell_type": "markdown",
      "source": [
        "# load the CSV file that has the text"
      ],
      "metadata": {
        "id": "Vc2K0a5FIZou"
      }
    },
    {
      "cell_type": "code",
      "execution_count": 3,
      "metadata": {
        "id": "li3BhYlAs3Pt",
        "colab": {
          "base_uri": "https://localhost:8080/"
        },
        "outputId": "fed813e5-737b-4a66-e3e3-c50c958aaf9e"
      },
      "outputs": [
        {
          "output_type": "stream",
          "name": "stdout",
          "text": [
            "Drive already mounted at /content/drive/; to attempt to forcibly remount, call drive.mount(\"/content/drive/\", force_remount=True).\n"
          ]
        }
      ],
      "source": [
        "from google.colab import drive\n",
        "drive.mount('/content/drive/')"
      ]
    },
    {
      "cell_type": "code",
      "execution_count": 4,
      "metadata": {
        "id": "45zJJ7ICKD58",
        "colab": {
          "base_uri": "https://localhost:8080/",
          "height": 207
        },
        "outputId": "41fea3b8-df54-4723-f365-e1f702471b6f"
      },
      "outputs": [
        {
          "output_type": "execute_result",
          "data": {
            "text/plain": [
              "                    id dialect  \\\n",
              "0  1175358310087892992      IQ   \n",
              "1  1175416117793349632      IQ   \n",
              "2  1175450108898565888      IQ   \n",
              "3  1175471073770573824      IQ   \n",
              "4  1175496913145217024      IQ   \n",
              "\n",
              "                                                text  \n",
              "0   @Nw8ieJUwaCAAreT لكن بالنهاية .. ينتفض .. يغير .  \n",
              "1  @7zNqXP0yrODdRjK يعني هذا محسوب على البشر .. ح...  \n",
              "2                    @KanaanRema مبين من كلامه خليجي  \n",
              "3         @HAIDER76128900 يسلملي مرورك وروحك الحلوه💐  \n",
              "4                 @hmo2406 وين هل الغيبه  اخ محمد 🌸🌺  "
            ],
            "text/html": [
              "\n",
              "  <div id=\"df-48f7c0a1-b85a-46db-b43d-d5c228078f89\">\n",
              "    <div class=\"colab-df-container\">\n",
              "      <div>\n",
              "<style scoped>\n",
              "    .dataframe tbody tr th:only-of-type {\n",
              "        vertical-align: middle;\n",
              "    }\n",
              "\n",
              "    .dataframe tbody tr th {\n",
              "        vertical-align: top;\n",
              "    }\n",
              "\n",
              "    .dataframe thead th {\n",
              "        text-align: right;\n",
              "    }\n",
              "</style>\n",
              "<table border=\"1\" class=\"dataframe\">\n",
              "  <thead>\n",
              "    <tr style=\"text-align: right;\">\n",
              "      <th></th>\n",
              "      <th>id</th>\n",
              "      <th>dialect</th>\n",
              "      <th>text</th>\n",
              "    </tr>\n",
              "  </thead>\n",
              "  <tbody>\n",
              "    <tr>\n",
              "      <th>0</th>\n",
              "      <td>1175358310087892992</td>\n",
              "      <td>IQ</td>\n",
              "      <td>@Nw8ieJUwaCAAreT لكن بالنهاية .. ينتفض .. يغير .</td>\n",
              "    </tr>\n",
              "    <tr>\n",
              "      <th>1</th>\n",
              "      <td>1175416117793349632</td>\n",
              "      <td>IQ</td>\n",
              "      <td>@7zNqXP0yrODdRjK يعني هذا محسوب على البشر .. ح...</td>\n",
              "    </tr>\n",
              "    <tr>\n",
              "      <th>2</th>\n",
              "      <td>1175450108898565888</td>\n",
              "      <td>IQ</td>\n",
              "      <td>@KanaanRema مبين من كلامه خليجي</td>\n",
              "    </tr>\n",
              "    <tr>\n",
              "      <th>3</th>\n",
              "      <td>1175471073770573824</td>\n",
              "      <td>IQ</td>\n",
              "      <td>@HAIDER76128900 يسلملي مرورك وروحك الحلوه💐</td>\n",
              "    </tr>\n",
              "    <tr>\n",
              "      <th>4</th>\n",
              "      <td>1175496913145217024</td>\n",
              "      <td>IQ</td>\n",
              "      <td>@hmo2406 وين هل الغيبه  اخ محمد 🌸🌺</td>\n",
              "    </tr>\n",
              "  </tbody>\n",
              "</table>\n",
              "</div>\n",
              "      <button class=\"colab-df-convert\" onclick=\"convertToInteractive('df-48f7c0a1-b85a-46db-b43d-d5c228078f89')\"\n",
              "              title=\"Convert this dataframe to an interactive table.\"\n",
              "              style=\"display:none;\">\n",
              "        \n",
              "  <svg xmlns=\"http://www.w3.org/2000/svg\" height=\"24px\"viewBox=\"0 0 24 24\"\n",
              "       width=\"24px\">\n",
              "    <path d=\"M0 0h24v24H0V0z\" fill=\"none\"/>\n",
              "    <path d=\"M18.56 5.44l.94 2.06.94-2.06 2.06-.94-2.06-.94-.94-2.06-.94 2.06-2.06.94zm-11 1L8.5 8.5l.94-2.06 2.06-.94-2.06-.94L8.5 2.5l-.94 2.06-2.06.94zm10 10l.94 2.06.94-2.06 2.06-.94-2.06-.94-.94-2.06-.94 2.06-2.06.94z\"/><path d=\"M17.41 7.96l-1.37-1.37c-.4-.4-.92-.59-1.43-.59-.52 0-1.04.2-1.43.59L10.3 9.45l-7.72 7.72c-.78.78-.78 2.05 0 2.83L4 21.41c.39.39.9.59 1.41.59.51 0 1.02-.2 1.41-.59l7.78-7.78 2.81-2.81c.8-.78.8-2.07 0-2.86zM5.41 20L4 18.59l7.72-7.72 1.47 1.35L5.41 20z\"/>\n",
              "  </svg>\n",
              "      </button>\n",
              "      \n",
              "  <style>\n",
              "    .colab-df-container {\n",
              "      display:flex;\n",
              "      flex-wrap:wrap;\n",
              "      gap: 12px;\n",
              "    }\n",
              "\n",
              "    .colab-df-convert {\n",
              "      background-color: #E8F0FE;\n",
              "      border: none;\n",
              "      border-radius: 50%;\n",
              "      cursor: pointer;\n",
              "      display: none;\n",
              "      fill: #1967D2;\n",
              "      height: 32px;\n",
              "      padding: 0 0 0 0;\n",
              "      width: 32px;\n",
              "    }\n",
              "\n",
              "    .colab-df-convert:hover {\n",
              "      background-color: #E2EBFA;\n",
              "      box-shadow: 0px 1px 2px rgba(60, 64, 67, 0.3), 0px 1px 3px 1px rgba(60, 64, 67, 0.15);\n",
              "      fill: #174EA6;\n",
              "    }\n",
              "\n",
              "    [theme=dark] .colab-df-convert {\n",
              "      background-color: #3B4455;\n",
              "      fill: #D2E3FC;\n",
              "    }\n",
              "\n",
              "    [theme=dark] .colab-df-convert:hover {\n",
              "      background-color: #434B5C;\n",
              "      box-shadow: 0px 1px 3px 1px rgba(0, 0, 0, 0.15);\n",
              "      filter: drop-shadow(0px 1px 2px rgba(0, 0, 0, 0.3));\n",
              "      fill: #FFFFFF;\n",
              "    }\n",
              "  </style>\n",
              "\n",
              "      <script>\n",
              "        const buttonEl =\n",
              "          document.querySelector('#df-48f7c0a1-b85a-46db-b43d-d5c228078f89 button.colab-df-convert');\n",
              "        buttonEl.style.display =\n",
              "          google.colab.kernel.accessAllowed ? 'block' : 'none';\n",
              "\n",
              "        async function convertToInteractive(key) {\n",
              "          const element = document.querySelector('#df-48f7c0a1-b85a-46db-b43d-d5c228078f89');\n",
              "          const dataTable =\n",
              "            await google.colab.kernel.invokeFunction('convertToInteractive',\n",
              "                                                     [key], {});\n",
              "          if (!dataTable) return;\n",
              "\n",
              "          const docLinkHtml = 'Like what you see? Visit the ' +\n",
              "            '<a target=\"_blank\" href=https://colab.research.google.com/notebooks/data_table.ipynb>data table notebook</a>'\n",
              "            + ' to learn more about interactive tables.';\n",
              "          element.innerHTML = '';\n",
              "          dataTable['output_type'] = 'display_data';\n",
              "          await google.colab.output.renderOutput(dataTable, element);\n",
              "          const docLink = document.createElement('div');\n",
              "          docLink.innerHTML = docLinkHtml;\n",
              "          element.appendChild(docLink);\n",
              "        }\n",
              "      </script>\n",
              "    </div>\n",
              "  </div>\n",
              "  "
            ]
          },
          "metadata": {},
          "execution_count": 4
        }
      ],
      "source": [
        "df = pd.read_csv(\"/content/drive/MyDrive/dialect_dataset_with_text.csv\",lineterminator='\\n')\n",
        "df.head(5)"
      ]
    },
    {
      "cell_type": "markdown",
      "source": [
        "# clean the text"
      ],
      "metadata": {
        "id": "Krh_6aE2IiWE"
      }
    },
    {
      "cell_type": "markdown",
      "source": [
        "## normalize the text"
      ],
      "metadata": {
        "id": "TaO5nZmUIuLn"
      }
    },
    {
      "cell_type": "code",
      "execution_count": 5,
      "metadata": {
        "id": "Z_n7cttiBRIZ"
      },
      "outputs": [],
      "source": [
        "def normalize_arabic(text):\n",
        "    text = re.sub(\"[إأآا]\", \"ا\", text)\n",
        "    text = re.sub(\"ى\", \"ي\", text)\n",
        "    text = re.sub(\"ة\", \"ه\", text)\n",
        "    text = re.sub(\"گ\", \"ك\", text)\n",
        "    return text"
      ]
    },
    {
      "cell_type": "markdown",
      "source": [
        "## remove any punctuation"
      ],
      "metadata": {
        "id": "7bkbIdrtIxqV"
      }
    },
    {
      "cell_type": "code",
      "execution_count": 6,
      "metadata": {
        "id": "KCAsFor8Bm_u"
      },
      "outputs": [],
      "source": [
        "def remove_any_punctuation(text):\n",
        "    punctuations = string.punctuation\n",
        "    for ele in text:\n",
        "      if ele in punctuations:\n",
        "        text = text.replace(ele, \"\")\n",
        "    return text"
      ]
    },
    {
      "cell_type": "markdown",
      "source": [
        "## remove the hashtags"
      ],
      "metadata": {
        "id": "2f81yZvdI0w9"
      }
    },
    {
      "cell_type": "code",
      "execution_count": 7,
      "metadata": {
        "id": "4O8a_AvXB4uG"
      },
      "outputs": [],
      "source": [
        "def remove_hashtags_mentions(text):\n",
        "    text = re.sub(\"@([a-zA-Z0-9_]{1,50})\",\"\",text)\n",
        "    text = re.sub(\"#([a-zA-Z0-9_]{1,50})\",\"\",text)\n",
        "    return text"
      ]
    },
    {
      "cell_type": "markdown",
      "source": [
        "## remove the emojies"
      ],
      "metadata": {
        "id": "wsqGmudUI46d"
      }
    },
    {
      "cell_type": "code",
      "execution_count": 8,
      "metadata": {
        "id": "6GF3tf_eCUNV"
      },
      "outputs": [],
      "source": [
        "def remove_emojies(text):\n",
        "  RE_EMOJI = re.compile(u'([\\U00002600-\\U000027BF])|([\\U0001f300-\\U0001f64F])|([\\U0001f680-\\U0001f6FF])')\n",
        "  text = re.sub(RE_EMOJI,\"\",text)\n",
        "  return text"
      ]
    },
    {
      "cell_type": "markdown",
      "source": [
        "## clean the text"
      ],
      "metadata": {
        "id": "kOlRxfwJI7Jv"
      }
    },
    {
      "cell_type": "code",
      "execution_count": 9,
      "metadata": {
        "id": "vQU91BT-SC_H"
      },
      "outputs": [],
      "source": [
        "def clean_the_text(text):\n",
        "  text = str(text)\n",
        "  text = normalize_arabic(text)\n",
        "  text = remove_hashtags_mentions(text)\n",
        "  text = remove_any_punctuation(text)\n",
        "  text = remove_emojies(text)\n",
        "  text = text.strip()\n",
        "  return  text"
      ]
    },
    {
      "cell_type": "markdown",
      "source": [
        "# apply the cleaning function text on every record"
      ],
      "metadata": {
        "id": "7lMyKa95JFUa"
      }
    },
    {
      "cell_type": "code",
      "execution_count": 10,
      "metadata": {
        "id": "uRshD9RVSmGL"
      },
      "outputs": [],
      "source": [
        "df[\"text\"] = df.text.apply(clean_the_text)\n",
        "df = df.drop(['id'], axis=1)"
      ]
    },
    {
      "cell_type": "markdown",
      "source": [
        "# save the cleaned data frame to be used at any time"
      ],
      "metadata": {
        "id": "M85dR0drJOZS"
      }
    },
    {
      "cell_type": "code",
      "source": [
        "df.to_csv('/content/clean_data.csv')"
      ],
      "metadata": {
        "id": "YDNo0hMAuwa5"
      },
      "execution_count": 11,
      "outputs": []
    },
    {
      "cell_type": "code",
      "source": [
        "def tokenize_data(X):\n",
        "    tokenizer = Tokenizer(num_words=vocab_size, oov_token=oov_tok)\n",
        "    tokenizer.fit_on_texts(X)\n",
        "    return tokenizer\n"
      ],
      "metadata": {
        "id": "nlY3oO7c_ZVV"
      },
      "execution_count": 12,
      "outputs": []
    },
    {
      "cell_type": "code",
      "source": [
        "def save_tokenizer_file(tokenizer):\n",
        "    with open('tokenizer.pickle', 'wb') as handle:\n",
        "        pickle.dump(tokenizer, handle, protocol=pickle.HIGHEST_PROTOCOL)"
      ],
      "metadata": {
        "id": "Q7NY58SiJzCb"
      },
      "execution_count": 13,
      "outputs": []
    },
    {
      "cell_type": "code",
      "source": [
        "tokenizer = tokenize_data(df.text)\n",
        "save_tokenizer_file(tokenizer)"
      ],
      "metadata": {
        "id": "dg4XhmVNKIxT"
      },
      "execution_count": 14,
      "outputs": []
    }
  ],
  "metadata": {
    "colab": {
      "collapsed_sections": [],
      "name": "data_preprocessing.ipynb",
      "provenance": [],
      "include_colab_link": true
    },
    "kernelspec": {
      "display_name": "Python 3",
      "name": "python3"
    },
    "language_info": {
      "name": "python"
    }
  },
  "nbformat": 4,
  "nbformat_minor": 0
}